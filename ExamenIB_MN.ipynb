{
  "nbformat": 4,
  "nbformat_minor": 0,
  "metadata": {
    "colab": {
      "provenance": [],
      "authorship_tag": "ABX9TyNg6pNvucPvJQo2aohUmlbs",
      "include_colab_link": true
    },
    "kernelspec": {
      "name": "python3",
      "display_name": "Python 3"
    },
    "language_info": {
      "name": "python"
    }
  },
  "cells": [
    {
      "cell_type": "markdown",
      "metadata": {
        "id": "view-in-github",
        "colab_type": "text"
      },
      "source": [
        "<a href=\"https://colab.research.google.com/github/DavidEgas2004/Examen-IB/blob/main/ExamenIB_MN.ipynb\" target=\"_parent\"><img src=\"https://colab.research.google.com/assets/colab-badge.svg\" alt=\"Open In Colab\"/></a>"
      ]
    },
    {
      "cell_type": "code",
      "source": [
        "#Sea la siguiente funcion del metodo de la secante optimizalo de tal forma que no se realicen llamadas inecesarias a la funcion f\n",
        "def secant_method(f, x0, x1, tol=1e-6, max_iter=100):\n",
        "    x_prev = x0\n",
        "    x_curr = x1\n",
        "    iter_count = 0\n",
        "    printed_x_values = set()\n",
        "\n",
        "    while abs(f(x_curr)) > tol and iter_count < max_iter:\n",
        "        x_next = x_curr - f(x_curr) * (x_curr - x_prev) / (f(x_curr) - f(x_prev))\n",
        "\n",
        "        x_prev = x_curr\n",
        "        x_curr = x_next\n",
        "        iter_count += 1\n",
        "\n",
        "        if x_curr not in printed_x_values:\n",
        "            global i\n",
        "            i += 1\n",
        "            print(f\"Llamada i={i}\\t x={x_curr:.5f}\\t y={f(x_curr):.2f}\")\n",
        "            printed_x_values.add(x_curr)\n",
        "\n",
        "    return x_curr, iter_count"
      ],
      "metadata": {
        "id": "2UDDu4RY19nN"
      },
      "execution_count": 7,
      "outputs": []
    },
    {
      "cell_type": "code",
      "source": [
        "i = 0\n",
        "import math\n",
        "\n",
        "\n",
        "def func(x):\n",
        "    global i\n",
        "    i += 1\n",
        "    y = math.sin(x) + 0.5\n",
        "    return y\n",
        "\n",
        "secant_method(func, x0=2, x1=3)"
      ],
      "metadata": {
        "colab": {
          "base_uri": "https://localhost:8080/"
        },
        "id": "cscntl3VH3Ue",
        "outputId": "5ddf3839-4472-4267-a19c-0bbf06248d32"
      },
      "execution_count": 8,
      "outputs": [
        {
          "output_type": "stream",
          "name": "stdout",
          "text": [
            "Llamada i=5\t x=3.83460\t y=-0.14\n",
            "Llamada i=11\t x=3.68602\t y=-0.02\n",
            "Llamada i=17\t x=3.66399\t y=0.00\n",
            "Llamada i=23\t x=3.66520\t y=-0.00\n",
            "Llamada i=29\t x=3.66519\t y=-0.00\n"
          ]
        },
        {
          "output_type": "execute_result",
          "data": {
            "text/plain": [
              "(3.66519143172732, 5)"
            ]
          },
          "metadata": {},
          "execution_count": 8
        }
      ]
    }
  ]
}